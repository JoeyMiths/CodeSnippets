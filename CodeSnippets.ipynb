{
 "cells": [
  {
   "cell_type": "markdown",
   "id": "b79b4a05-b172-4432-8c29-635abbab1382",
   "metadata": {},
   "source": [
    "## File explorer"
   ]
  },
  {
   "cell_type": "code",
   "execution_count": null,
   "id": "5ca22bb8-6ad6-4bdd-8f2b-008b7186c040",
   "metadata": {},
   "outputs": [],
   "source": [
    "def explore(x):\n",
    "    print(f'\\n*****************\\nDataset Explorer\\n*****************')\n",
    "    print(f'\\n******* Head **********\\n')\n",
    "    display(x.head())\n",
    "    print(f'\\n******* Info **********\\n')\n",
    "    print(x.info())\n",
    "    print(f'\\n******* Describe **********\\n')\n",
    "    display(x.describe())\n",
    "    print(f'\\n******* Tail **********\\n')\n",
    "    display(x.tail())"
   ]
  },
  {
   "cell_type": "markdown",
   "id": "2b90811b-7e3b-4abb-a52a-d61befd27e92",
   "metadata": {},
   "source": [
    "# Test to speech"
   ]
  },
  {
   "cell_type": "code",
   "execution_count": null,
   "id": "1e3b0800-9495-41e5-a5f7-3856c197edbb",
   "metadata": {},
   "outputs": [],
   "source": [
    "!pip install gtts\n",
    "from gtts import gTTS #Import Google Text to Speech\n",
    "from IPython.display import Audio #Import Audio method from IPython's Display Class\n",
    "tts = gTTS('The probabilty is average') #Provide the string to convert to speech\n",
    "tts.save('1.wav') #save the string converted to speech as a .wav file\n",
    "sound_file = '1.wav'\n",
    "Audio(sound_file, autoplay=True) "
   ]
  }
 ],
 "metadata": {
  "kernelspec": {
   "display_name": "Python 3 (ipykernel)",
   "language": "python",
   "name": "python3"
  },
  "language_info": {
   "codemirror_mode": {
    "name": "ipython",
    "version": 3
   },
   "file_extension": ".py",
   "mimetype": "text/x-python",
   "name": "python",
   "nbconvert_exporter": "python",
   "pygments_lexer": "ipython3",
   "version": "3.8.10"
  }
 },
 "nbformat": 4,
 "nbformat_minor": 5
}
